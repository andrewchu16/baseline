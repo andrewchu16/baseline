{
 "cells": [
  {
   "cell_type": "code",
   "execution_count": 2,
   "metadata": {},
   "outputs": [],
   "source": [
    "import numpy as np\n",
    "import mne\n",
    "from detection_util import preprocess_eeg, extract_rhythms, combined_deviation, detect_fatigue, read_eeg_data"
   ]
  },
  {
   "cell_type": "code",
   "execution_count": 3,
   "metadata": {},
   "outputs": [
    {
     "name": "stdout",
     "output_type": "stream",
     "text": [
      "Extracting EDF parameters from C:\\Users\\andre\\projects\\baseline\\hardware-check\\subj_1\\session_01\\block_08\\Subject 1, Session 1, Block 8 Recording_FLEX2_213075_2024.08.06T17.30.40.04.00.md.edf...\n",
      "EDF file detected\n",
      "Setting channel info structure...\n",
      "Creating raw.info structure...\n",
      "Reading 0 ... 87551  =      0.000 ...   341.996 secs...\n"
     ]
    }
   ],
   "source": [
    "# edf_file_name = r\"C:\\Users\\andre\\projects\\baseline\\hardware-check\\subj_1\\session_02\\block_01\\Subject 1, Session 1, Block 1 Recording_FLEX2_213075_2024.08.14T11.51.10.04.00.md.edf\"\n",
    "edf_file_name = r\"C:\\Users\\andre\\projects\\baseline\\hardware-check\\subj_1\\session_01\\block_08\\Subject 1, Session 1, Block 8 Recording_FLEX2_213075_2024.08.06T17.30.40.04.00.md.edf\"\n",
    "# edf_file_name = r\"C:\\Users\\andre\\projects\\baseline\\hardware-check\\subj_1\\session_01\\block_16\\Subject 1, Session 1, Block 16 Recording_FLEX2_213075_2024.08.06T18.18.05.04.00.md.edf\"\n",
    "\n",
    "raw = mne.io.read_raw_edf(edf_file_name, preload=True)"
   ]
  },
  {
   "cell_type": "code",
   "execution_count": 3,
   "metadata": {},
   "outputs": [
    {
     "data": {
      "text/plain": [
       "87552"
      ]
     },
     "execution_count": 3,
     "metadata": {},
     "output_type": "execute_result"
    }
   ],
   "source": [
    "raw.n_times"
   ]
  },
  {
   "cell_type": "code",
   "execution_count": 4,
   "metadata": {},
   "outputs": [],
   "source": [
    "n_samples = raw.n_times\n",
    "sfreq = raw.info['sfreq']\n",
    "n_chunks = 15\n",
    "chunk_size = n_samples // n_chunks"
   ]
  },
  {
   "cell_type": "code",
   "execution_count": 5,
   "metadata": {},
   "outputs": [
    {
     "name": "stdout",
     "output_type": "stream",
     "text": [
      "Chunk 1: Start sample = 0, End sample = 5836\n",
      "Chunk 2: Start sample = 5836, End sample = 11672\n",
      "Chunk 3: Start sample = 11672, End sample = 17508\n",
      "Chunk 4: Start sample = 17508, End sample = 23344\n",
      "Chunk 5: Start sample = 23344, End sample = 29180\n",
      "Chunk 6: Start sample = 29180, End sample = 35016\n",
      "Chunk 7: Start sample = 35016, End sample = 40852\n",
      "Chunk 8: Start sample = 40852, End sample = 46688\n",
      "Chunk 9: Start sample = 46688, End sample = 52524\n",
      "Chunk 10: Start sample = 52524, End sample = 58360\n",
      "Chunk 11: Start sample = 58360, End sample = 64196\n",
      "Chunk 12: Start sample = 64196, End sample = 70032\n",
      "Chunk 13: Start sample = 70032, End sample = 75868\n",
      "Chunk 14: Start sample = 75868, End sample = 81704\n",
      "Chunk 15: Start sample = 81704, End sample = 87552\n"
     ]
    }
   ],
   "source": [
    "chunks = []\n",
    "for i in range(n_chunks):\n",
    "    start_sample = i * chunk_size\n",
    "    end_sample = (i + 1) * chunk_size if i < n_chunks - 1 else n_samples  # Ensure the last chunk includes all data\n",
    "    chunk = raw.copy().crop(tmin=start_sample / sfreq, tmax=end_sample / sfreq, include_tmax=False)\n",
    "    chunks.append(chunk)\n",
    "    print(f\"Chunk {i+1}: Start sample = {start_sample}, End sample = {end_sample}\")"
   ]
  },
  {
   "cell_type": "code",
   "execution_count": 6,
   "metadata": {},
   "outputs": [
    {
     "name": "stdout",
     "output_type": "stream",
     "text": [
      "Writing c:\\Users\\andre\\projects\\baseline\\block 8\\chunk_1.fif\n",
      "    Writing channel names to FIF truncated to 15 characters with remapping\n",
      "Closing c:\\Users\\andre\\projects\\baseline\\block 8\\chunk_1.fif\n",
      "[done]\n",
      "Saved chunk 1 as block 8/chunk_1.fif\n",
      "Writing c:\\Users\\andre\\projects\\baseline\\block 8\\chunk_2.fif\n",
      "    Writing channel names to FIF truncated to 15 characters with remapping\n",
      "Closing c:\\Users\\andre\\projects\\baseline\\block 8\\chunk_2.fif\n",
      "[done]\n",
      "Saved chunk 2 as block 8/chunk_2.fif\n",
      "Writing c:\\Users\\andre\\projects\\baseline\\block 8\\chunk_3.fif\n",
      "    Writing channel names to FIF truncated to 15 characters with remapping\n",
      "Closing c:\\Users\\andre\\projects\\baseline\\block 8\\chunk_3.fif\n",
      "[done]\n",
      "Saved chunk 3 as block 8/chunk_3.fif\n",
      "Writing c:\\Users\\andre\\projects\\baseline\\block 8\\chunk_4.fif\n",
      "    Writing channel names to FIF truncated to 15 characters with remapping\n"
     ]
    },
    {
     "name": "stderr",
     "output_type": "stream",
     "text": [
      "C:\\Users\\andre\\AppData\\Local\\Temp\\ipykernel_24196\\2971085268.py:3: RuntimeWarning: This filename (c:\\Users\\andre\\projects\\baseline\\block 8\\chunk_1.fif) does not conform to MNE naming conventions. All raw files should end with raw.fif, raw_sss.fif, raw_tsss.fif, _meg.fif, _eeg.fif, _ieeg.fif, raw.fif.gz, raw_sss.fif.gz, raw_tsss.fif.gz, _meg.fif.gz, _eeg.fif.gz or _ieeg.fif.gz\n",
      "  chunk.save(file_name, overwrite=True)\n",
      "C:\\Users\\andre\\AppData\\Local\\Temp\\ipykernel_24196\\2971085268.py:3: RuntimeWarning: This filename (c:\\Users\\andre\\projects\\baseline\\block 8\\chunk_2.fif) does not conform to MNE naming conventions. All raw files should end with raw.fif, raw_sss.fif, raw_tsss.fif, _meg.fif, _eeg.fif, _ieeg.fif, raw.fif.gz, raw_sss.fif.gz, raw_tsss.fif.gz, _meg.fif.gz, _eeg.fif.gz or _ieeg.fif.gz\n",
      "  chunk.save(file_name, overwrite=True)\n",
      "C:\\Users\\andre\\AppData\\Local\\Temp\\ipykernel_24196\\2971085268.py:3: RuntimeWarning: This filename (c:\\Users\\andre\\projects\\baseline\\block 8\\chunk_3.fif) does not conform to MNE naming conventions. All raw files should end with raw.fif, raw_sss.fif, raw_tsss.fif, _meg.fif, _eeg.fif, _ieeg.fif, raw.fif.gz, raw_sss.fif.gz, raw_tsss.fif.gz, _meg.fif.gz, _eeg.fif.gz or _ieeg.fif.gz\n",
      "  chunk.save(file_name, overwrite=True)\n",
      "C:\\Users\\andre\\AppData\\Local\\Temp\\ipykernel_24196\\2971085268.py:3: RuntimeWarning: This filename (c:\\Users\\andre\\projects\\baseline\\block 8\\chunk_4.fif) does not conform to MNE naming conventions. All raw files should end with raw.fif, raw_sss.fif, raw_tsss.fif, _meg.fif, _eeg.fif, _ieeg.fif, raw.fif.gz, raw_sss.fif.gz, raw_tsss.fif.gz, _meg.fif.gz, _eeg.fif.gz or _ieeg.fif.gz\n",
      "  chunk.save(file_name, overwrite=True)\n"
     ]
    },
    {
     "name": "stdout",
     "output_type": "stream",
     "text": [
      "Closing c:\\Users\\andre\\projects\\baseline\\block 8\\chunk_4.fif\n",
      "[done]\n",
      "Saved chunk 4 as block 8/chunk_4.fif\n",
      "Writing c:\\Users\\andre\\projects\\baseline\\block 8\\chunk_5.fif\n",
      "    Writing channel names to FIF truncated to 15 characters with remapping\n",
      "Closing c:\\Users\\andre\\projects\\baseline\\block 8\\chunk_5.fif\n",
      "[done]\n",
      "Saved chunk 5 as block 8/chunk_5.fif\n",
      "Writing c:\\Users\\andre\\projects\\baseline\\block 8\\chunk_6.fif\n",
      "    Writing channel names to FIF truncated to 15 characters with remapping\n",
      "Closing c:\\Users\\andre\\projects\\baseline\\block 8\\chunk_6.fif\n",
      "[done]\n",
      "Saved chunk 6 as block 8/chunk_6.fif\n",
      "Writing c:\\Users\\andre\\projects\\baseline\\block 8\\chunk_7.fif\n",
      "    Writing channel names to FIF truncated to 15 characters with remapping\n",
      "Closing c:\\Users\\andre\\projects\\baseline\\block 8\\chunk_7.fif\n",
      "[done]\n",
      "Saved chunk 7 as block 8/chunk_7.fif\n",
      "Writing c:\\Users\\andre\\projects\\baseline\\block 8\\chunk_8.fif\n",
      "    Writing channel names to FIF truncated to 15 characters with remapping\n",
      "Closing c:\\Users\\andre\\projects\\baseline\\block 8\\chunk_8.fif\n",
      "[done]\n",
      "Saved chunk 8 as block 8/chunk_8.fif\n",
      "Writing c:\\Users\\andre\\projects\\baseline\\block 8\\chunk_9.fif\n"
     ]
    },
    {
     "name": "stderr",
     "output_type": "stream",
     "text": [
      "C:\\Users\\andre\\AppData\\Local\\Temp\\ipykernel_24196\\2971085268.py:3: RuntimeWarning: This filename (c:\\Users\\andre\\projects\\baseline\\block 8\\chunk_5.fif) does not conform to MNE naming conventions. All raw files should end with raw.fif, raw_sss.fif, raw_tsss.fif, _meg.fif, _eeg.fif, _ieeg.fif, raw.fif.gz, raw_sss.fif.gz, raw_tsss.fif.gz, _meg.fif.gz, _eeg.fif.gz or _ieeg.fif.gz\n",
      "  chunk.save(file_name, overwrite=True)\n",
      "C:\\Users\\andre\\AppData\\Local\\Temp\\ipykernel_24196\\2971085268.py:3: RuntimeWarning: This filename (c:\\Users\\andre\\projects\\baseline\\block 8\\chunk_6.fif) does not conform to MNE naming conventions. All raw files should end with raw.fif, raw_sss.fif, raw_tsss.fif, _meg.fif, _eeg.fif, _ieeg.fif, raw.fif.gz, raw_sss.fif.gz, raw_tsss.fif.gz, _meg.fif.gz, _eeg.fif.gz or _ieeg.fif.gz\n",
      "  chunk.save(file_name, overwrite=True)\n",
      "C:\\Users\\andre\\AppData\\Local\\Temp\\ipykernel_24196\\2971085268.py:3: RuntimeWarning: This filename (c:\\Users\\andre\\projects\\baseline\\block 8\\chunk_7.fif) does not conform to MNE naming conventions. All raw files should end with raw.fif, raw_sss.fif, raw_tsss.fif, _meg.fif, _eeg.fif, _ieeg.fif, raw.fif.gz, raw_sss.fif.gz, raw_tsss.fif.gz, _meg.fif.gz, _eeg.fif.gz or _ieeg.fif.gz\n",
      "  chunk.save(file_name, overwrite=True)\n",
      "C:\\Users\\andre\\AppData\\Local\\Temp\\ipykernel_24196\\2971085268.py:3: RuntimeWarning: This filename (c:\\Users\\andre\\projects\\baseline\\block 8\\chunk_8.fif) does not conform to MNE naming conventions. All raw files should end with raw.fif, raw_sss.fif, raw_tsss.fif, _meg.fif, _eeg.fif, _ieeg.fif, raw.fif.gz, raw_sss.fif.gz, raw_tsss.fif.gz, _meg.fif.gz, _eeg.fif.gz or _ieeg.fif.gz\n",
      "  chunk.save(file_name, overwrite=True)\n",
      "C:\\Users\\andre\\AppData\\Local\\Temp\\ipykernel_24196\\2971085268.py:3: RuntimeWarning: This filename (c:\\Users\\andre\\projects\\baseline\\block 8\\chunk_9.fif) does not conform to MNE naming conventions. All raw files should end with raw.fif, raw_sss.fif, raw_tsss.fif, _meg.fif, _eeg.fif, _ieeg.fif, raw.fif.gz, raw_sss.fif.gz, raw_tsss.fif.gz, _meg.fif.gz, _eeg.fif.gz or _ieeg.fif.gz\n",
      "  chunk.save(file_name, overwrite=True)\n"
     ]
    },
    {
     "name": "stdout",
     "output_type": "stream",
     "text": [
      "    Writing channel names to FIF truncated to 15 characters with remapping\n",
      "Closing c:\\Users\\andre\\projects\\baseline\\block 8\\chunk_9.fif\n",
      "[done]\n",
      "Saved chunk 9 as block 8/chunk_9.fif\n",
      "Writing c:\\Users\\andre\\projects\\baseline\\block 8\\chunk_10.fif\n",
      "    Writing channel names to FIF truncated to 15 characters with remapping\n",
      "Closing c:\\Users\\andre\\projects\\baseline\\block 8\\chunk_10.fif\n",
      "[done]\n",
      "Saved chunk 10 as block 8/chunk_10.fif\n",
      "Writing c:\\Users\\andre\\projects\\baseline\\block 8\\chunk_11.fif\n",
      "    Writing channel names to FIF truncated to 15 characters with remapping\n",
      "Closing c:\\Users\\andre\\projects\\baseline\\block 8\\chunk_11.fif\n",
      "[done]\n",
      "Saved chunk 11 as block 8/chunk_11.fif\n",
      "Writing c:\\Users\\andre\\projects\\baseline\\block 8\\chunk_12.fif\n",
      "    Writing channel names to FIF truncated to 15 characters with remapping\n",
      "Closing c:\\Users\\andre\\projects\\baseline\\block 8\\chunk_12.fif\n",
      "[done]\n",
      "Saved chunk 12 as block 8/chunk_12.fif\n",
      "Writing c:\\Users\\andre\\projects\\baseline\\block 8\\chunk_13.fif\n",
      "    Writing channel names to FIF truncated to 15 characters with remapping\n",
      "Closing c:\\Users\\andre\\projects\\baseline\\block 8\\chunk_13.fif\n"
     ]
    },
    {
     "name": "stderr",
     "output_type": "stream",
     "text": [
      "C:\\Users\\andre\\AppData\\Local\\Temp\\ipykernel_24196\\2971085268.py:3: RuntimeWarning: This filename (c:\\Users\\andre\\projects\\baseline\\block 8\\chunk_10.fif) does not conform to MNE naming conventions. All raw files should end with raw.fif, raw_sss.fif, raw_tsss.fif, _meg.fif, _eeg.fif, _ieeg.fif, raw.fif.gz, raw_sss.fif.gz, raw_tsss.fif.gz, _meg.fif.gz, _eeg.fif.gz or _ieeg.fif.gz\n",
      "  chunk.save(file_name, overwrite=True)\n",
      "C:\\Users\\andre\\AppData\\Local\\Temp\\ipykernel_24196\\2971085268.py:3: RuntimeWarning: This filename (c:\\Users\\andre\\projects\\baseline\\block 8\\chunk_11.fif) does not conform to MNE naming conventions. All raw files should end with raw.fif, raw_sss.fif, raw_tsss.fif, _meg.fif, _eeg.fif, _ieeg.fif, raw.fif.gz, raw_sss.fif.gz, raw_tsss.fif.gz, _meg.fif.gz, _eeg.fif.gz or _ieeg.fif.gz\n",
      "  chunk.save(file_name, overwrite=True)\n",
      "C:\\Users\\andre\\AppData\\Local\\Temp\\ipykernel_24196\\2971085268.py:3: RuntimeWarning: This filename (c:\\Users\\andre\\projects\\baseline\\block 8\\chunk_12.fif) does not conform to MNE naming conventions. All raw files should end with raw.fif, raw_sss.fif, raw_tsss.fif, _meg.fif, _eeg.fif, _ieeg.fif, raw.fif.gz, raw_sss.fif.gz, raw_tsss.fif.gz, _meg.fif.gz, _eeg.fif.gz or _ieeg.fif.gz\n",
      "  chunk.save(file_name, overwrite=True)\n",
      "C:\\Users\\andre\\AppData\\Local\\Temp\\ipykernel_24196\\2971085268.py:3: RuntimeWarning: This filename (c:\\Users\\andre\\projects\\baseline\\block 8\\chunk_13.fif) does not conform to MNE naming conventions. All raw files should end with raw.fif, raw_sss.fif, raw_tsss.fif, _meg.fif, _eeg.fif, _ieeg.fif, raw.fif.gz, raw_sss.fif.gz, raw_tsss.fif.gz, _meg.fif.gz, _eeg.fif.gz or _ieeg.fif.gz\n",
      "  chunk.save(file_name, overwrite=True)\n"
     ]
    },
    {
     "name": "stdout",
     "output_type": "stream",
     "text": [
      "[done]\n",
      "Saved chunk 13 as block 8/chunk_13.fif\n",
      "Writing c:\\Users\\andre\\projects\\baseline\\block 8\\chunk_14.fif\n",
      "    Writing channel names to FIF truncated to 15 characters with remapping\n",
      "Closing c:\\Users\\andre\\projects\\baseline\\block 8\\chunk_14.fif\n",
      "[done]\n",
      "Saved chunk 14 as block 8/chunk_14.fif\n",
      "Writing c:\\Users\\andre\\projects\\baseline\\block 8\\chunk_15.fif\n",
      "    Writing channel names to FIF truncated to 15 characters with remapping\n",
      "Closing c:\\Users\\andre\\projects\\baseline\\block 8\\chunk_15.fif\n",
      "[done]\n",
      "Saved chunk 15 as block 8/chunk_15.fif\n"
     ]
    },
    {
     "name": "stderr",
     "output_type": "stream",
     "text": [
      "C:\\Users\\andre\\AppData\\Local\\Temp\\ipykernel_24196\\2971085268.py:3: RuntimeWarning: This filename (c:\\Users\\andre\\projects\\baseline\\block 8\\chunk_14.fif) does not conform to MNE naming conventions. All raw files should end with raw.fif, raw_sss.fif, raw_tsss.fif, _meg.fif, _eeg.fif, _ieeg.fif, raw.fif.gz, raw_sss.fif.gz, raw_tsss.fif.gz, _meg.fif.gz, _eeg.fif.gz or _ieeg.fif.gz\n",
      "  chunk.save(file_name, overwrite=True)\n",
      "C:\\Users\\andre\\AppData\\Local\\Temp\\ipykernel_24196\\2971085268.py:3: RuntimeWarning: This filename (c:\\Users\\andre\\projects\\baseline\\block 8\\chunk_15.fif) does not conform to MNE naming conventions. All raw files should end with raw.fif, raw_sss.fif, raw_tsss.fif, _meg.fif, _eeg.fif, _ieeg.fif, raw.fif.gz, raw_sss.fif.gz, raw_tsss.fif.gz, _meg.fif.gz, _eeg.fif.gz or _ieeg.fif.gz\n",
      "  chunk.save(file_name, overwrite=True)\n"
     ]
    }
   ],
   "source": [
    "for i, chunk in enumerate(chunks):\n",
    "    file_name = f'block 16/chunk_{i+1}.fif'\n",
    "    chunk.save(file_name, overwrite=True)\n",
    "    print(f\"Saved chunk {i+1} as {file_name}\")"
   ]
  }
 ],
 "metadata": {
  "kernelspec": {
   "display_name": "baseline-h49",
   "language": "python",
   "name": "python3"
  },
  "language_info": {
   "codemirror_mode": {
    "name": "ipython",
    "version": 3
   },
   "file_extension": ".py",
   "mimetype": "text/x-python",
   "name": "python",
   "nbconvert_exporter": "python",
   "pygments_lexer": "ipython3",
   "version": "3.10.15"
  }
 },
 "nbformat": 4,
 "nbformat_minor": 2
}
