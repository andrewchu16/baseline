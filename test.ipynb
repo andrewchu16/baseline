{
 "cells": [
  {
   "cell_type": "code",
   "execution_count": 3,
   "metadata": {},
   "outputs": [],
   "source": [
    "from scipy.spatial.distance import mahalanobis\n",
    "import numpy as np"
   ]
  },
  {
   "cell_type": "code",
   "execution_count": 22,
   "metadata": {},
   "outputs": [],
   "source": [
    "a = np.array([2, 0, 0])\n",
    "b = np.array([0, 1, 0])\n",
    "iv = [[1, 0.5, 0.5], [0.5, 1, 0.5], [0.5, 0.5, 1]]"
   ]
  },
  {
   "cell_type": "code",
   "execution_count": 20,
   "metadata": {},
   "outputs": [
    {
     "data": {
      "text/plain": [
       "1.7320508075688772"
      ]
     },
     "execution_count": 20,
     "metadata": {},
     "output_type": "execute_result"
    }
   ],
   "source": [
    "mahalanobis(a, b, iv)\n",
    "# 1.7320508075688772"
   ]
  },
  {
   "cell_type": "code",
   "execution_count": 18,
   "metadata": {},
   "outputs": [],
   "source": [
    "def mahalanobis_distance(rhythm_data: np.ndarray, mean_vector: np.ndarray, inv_cov_matrix: np.ndarray) -> float:\n",
    "    \"\"\"\n",
    "    Calculate the Mahalanobis distance for the given rhythm data.\n",
    "    \"\"\"\n",
    "    return np.sqrt((rhythm_data - mean_vector).T @ inv_cov_matrix @ (rhythm_data - mean_vector))"
   ]
  },
  {
   "cell_type": "code",
   "execution_count": 19,
   "metadata": {},
   "outputs": [
    {
     "data": {
      "text/plain": [
       "1.7320508075688772"
      ]
     },
     "execution_count": 19,
     "metadata": {},
     "output_type": "execute_result"
    }
   ],
   "source": [
    "mahalanobis_distance(a, b, iv)"
   ]
  },
  {
   "cell_type": "code",
   "execution_count": 1,
   "metadata": {},
   "outputs": [],
   "source": [
    "import mne\n",
    "from mne.preprocessing import ICA\n",
    "import numpy as np\n",
    "import pywt\n",
    "from typing import Tuple, List\n",
    "from scipy.spatial.distance import mahalanobis"
   ]
  },
  {
   "cell_type": "code",
   "execution_count": 71,
   "metadata": {},
   "outputs": [],
   "source": [
    "def read_eeg_data(edf_file_path: str, sfreq=256.) -> mne.io.Raw:\n",
    "    \"\"\"\n",
    "    Reads EEG data from an EDF file, returns the data as a (channels, time samples) array.\n",
    "    \"\"\"\n",
    "    raw = mne.io.read_raw_edf(edf_file_path, preload=True)\n",
    "    \n",
    "    montage = mne.channels.make_standard_montage('standard_1020')\n",
    "    eeg_channels = ['Cz', 'Fp1', 'F7', 'P3', 'O1', 'Pz', 'O2', 'P4', 'F8', 'Fp2']\n",
    "\n",
    "    raw.pick(eeg_channels)\n",
    "    raw.set_montage(montage)\n",
    "    \n",
    "    raw.resample(sfreq)\n",
    "    \n",
    "    return raw\n",
    "\n",
    "def preprocess_eeg(raw: mne.io.Raw) -> mne.io.Raw:\n",
    "    \"\"\"\n",
    "    Apply Blind Source Separation (BSS) using Independent Component Analysis (ICA)\n",
    "    to remove artifacts from the EEG data.\n",
    "    \n",
    "    Parameters:\n",
    "    - sfreq: Sampling frequency of the EEG data.\n",
    "    \n",
    "    Returns:\n",
    "    - Raw object with cleaned EEG data after ICA.\n",
    "    \"\"\"\n",
    "    # Apply band-pass filter (1-50 Hz) to remove very low and high frequency noise\n",
    "    raw.filter(1.0, 50.0, fir_design='firwin')\n",
    "    \n",
    "    raw.del_proj()\n",
    "    \n",
    "    # Fit ICA to the raw EEG data\n",
    "    ica = ICA(n_components=10, random_state=97)\n",
    "    ica.fit(raw)\n",
    "    \n",
    "    # Apply ICA to remove artifacts\n",
    "    raw_cleaned = ica.apply(raw)\n",
    "    \n",
    "    return raw_cleaned\n",
    "\n",
    "def extract_rhythms(raw_cleaned_data: mne.io.Raw, sfreq: float, \n",
    "                    alpha_band=(8, 12), \n",
    "                    theta_band=(4, 8)):\n",
    "    \"\"\"\n",
    "    Extract alpha (8-12 Hz) and theta (4-8 Hz) rhythms.\n",
    "    \n",
    "    Parameters:\n",
    "    - raw_cleaned_data: Cleaned EEG data in MNE Raw format.\n",
    "    - sfreq: Sampling frequency.\n",
    "    - alpha_band: Tuple representing the frequency range for alpha rhythm.\n",
    "    - theta_band: Tuple representing the frequency range for theta rhythm.\n",
    "    \n",
    "    Returns:\n",
    "    - Tuple containing two NumPy arrays: (alpha_rhythms, theta_rhythms).\n",
    "    \"\"\"\n",
    "    eeg_data: np.ndarray = raw_cleaned_data.get_data()  # (channels x time samples)\n",
    "    coeffs_alpha: List[np.ndarray] = []\n",
    "    coeffs_theta: List[np.ndarray] = []\n",
    "    \n",
    "    for channel_data in eeg_data:\n",
    "        # Perform continuous wavelet transform (CWT) for each channel\n",
    "        coeffs, freqs = pywt.cwt(channel_data, scales=np.arange(1, 128), wavelet='morl', sampling_period=1/sfreq)\n",
    "        \n",
    "        # Extract alpha and theta power using the specified frequency bands\n",
    "        alpha_power = np.mean([coeffs[i] for i, f in enumerate(freqs) if alpha_band[0] <= f <= alpha_band[1]], axis=0)\n",
    "        theta_power = np.mean([coeffs[i] for i, f in enumerate(freqs) if theta_band[0] <= f <= theta_band[1]], axis=0)\n",
    "        \n",
    "        coeffs_alpha.append(alpha_power)\n",
    "        coeffs_theta.append(theta_power)\n",
    "    \n",
    "    return np.array(coeffs_alpha), np.array(coeffs_theta)\n",
    "\n",
    "def mahalanobis_distance(rhythm_data: np.ndarray, mean_vector: np.ndarray, cov_matrix: np.ndarray) -> float:\n",
    "    \"\"\"\n",
    "    Calculate the Mahalanobis distance for the given rhythm data.\n",
    "    \"\"\"\n",
    "    # return mahalanobis(rhythm_data, mean_vector, np.linalg.inv(cov_matrix))\n",
    "    return np.sqrt((rhythm_data - mean_vector).T @ np.linalg.inv(cov_matrix) @ (rhythm_data - mean_vector))\n",
    "\n",
    "def combined_deviation(alpha_data: np.ndarray, theta_data: np.ndarray, \n",
    "                       mean_alpha: np.ndarray, cov_alpha: np.ndarray, \n",
    "                       mean_theta: np.ndarray, cov_theta: np.ndarray, \n",
    "                       sigma: float = 0.5) -> float:\n",
    "    \"\"\"\n",
    "    Calculate the combined deviation (DC) based on weighted Mahalanobis distances of alpha and theta rhythms.\n",
    "    \n",
    "    Returns:\n",
    "    - Combined deviation\n",
    "    \"\"\"\n",
    "    D_alpha: float = mahalanobis_distance(alpha_data, mean_alpha, cov_alpha)\n",
    "    D_theta: float = mahalanobis_distance(theta_data, mean_theta, cov_theta)\n",
    "    \n",
    "    # Weighted sum of distances\n",
    "    DC: float = sigma * D_alpha + (1 - sigma) * D_theta\n",
    "    return DC\n",
    "\n",
    "def detect_fatigue(DC: float, threshold: float=6.0) -> bool:\n",
    "    \"\"\"\n",
    "    TODO: Calculate threshold dynamically\n",
    "    DC > threshold\n",
    "    \"\"\"\n",
    "    return DC > threshold"
   ]
  },
  {
   "cell_type": "code",
   "execution_count": 28,
   "metadata": {},
   "outputs": [
    {
     "data": {
      "text/plain": [
       "['Cz', 'Fp1', 'F7', 'P3', 'O1', 'Pz', 'O2', 'P4', 'F8', 'Fp2']"
      ]
     },
     "execution_count": 28,
     "metadata": {},
     "output_type": "execute_result"
    }
   ],
   "source": [
    "c =  ['Cz',\n",
    "    'Fp1',\n",
    "    'F7',\n",
    "    'F3',\n",
    "    'CP5',\n",
    "    'CP1',\n",
    "    'P1',\n",
    "    'P3',\n",
    "    'P5',\n",
    "    'P7',\n",
    "    'PO9',\n",
    "    'PO7',\n",
    "    'PO3',\n",
    "    'O1',\n",
    "    'O9',\n",
    "    'Pz',\n",
    "    'POz',\n",
    "    'Oz',\n",
    "    'O10',\n",
    "    'O2',\n",
    "    'PO4',\n",
    "    'PO8',\n",
    "    'PO10',\n",
    "    'P8',\n",
    "    'P6',\n",
    "    'P4',\n",
    "    'P2',\n",
    "    'CP2',\n",
    "    'CP6',\n",
    "    'F4',\n",
    "    'F8',\n",
    "    'Fp2']\n",
    "\n",
    "d = ['Fp1', 'Fp2', 'F7', 'F8', 'Fz', 'Cz', 'C3', 'C4', 'Pz', 'P3', 'P4', 'O1', 'O2', 'T3', 'T4', 'T5', 'T6']\n",
    "\n",
    "list(filter(lambda x: x in d, c))"
   ]
  },
  {
   "cell_type": "code",
   "execution_count": 61,
   "metadata": {},
   "outputs": [
    {
     "name": "stdout",
     "output_type": "stream",
     "text": [
      "Extracting EDF parameters from c:\\Users\\andre\\projects\\baseline\\block1.edf...\n",
      "EDF file detected\n",
      "Setting channel info structure...\n",
      "Creating raw.info structure...\n",
      "Reading 0 ... 64511  =      0.000 ...   251.996 secs...\n",
      "Sampling frequency of the instance is already 256.0, returning unmodified.\n"
     ]
    }
   ],
   "source": [
    "r = read_eeg_data('./block1.edf', 256.)"
   ]
  },
  {
   "cell_type": "code",
   "execution_count": 62,
   "metadata": {},
   "outputs": [
    {
     "name": "stdout",
     "output_type": "stream",
     "text": [
      "Filtering raw data in 1 contiguous segment\n",
      "Setting up band-pass filter from 1 - 50 Hz\n",
      "\n",
      "FIR filter parameters\n",
      "---------------------\n",
      "Designing a one-pass, zero-phase, non-causal bandpass filter:\n",
      "- Windowed time-domain design (firwin) method\n",
      "- Hamming window with 0.0194 passband ripple and 53 dB stopband attenuation\n",
      "- Lower passband edge: 1.00\n",
      "- Lower transition bandwidth: 1.00 Hz (-6 dB cutoff frequency: 0.50 Hz)\n",
      "- Upper passband edge: 50.00 Hz\n",
      "- Upper transition bandwidth: 12.50 Hz (-6 dB cutoff frequency: 56.25 Hz)\n",
      "- Filter length: 845 samples (3.301 s)\n",
      "\n",
      "Fitting ICA to data using 10 channels (please be patient, this may take a while)\n",
      "Selecting by number: 10 components\n",
      "Fitting ICA took 0.5s.\n",
      "Applying ICA to Raw instance\n",
      "    Transforming to ICA space (10 components)\n",
      "    Zeroing out 0 ICA components\n",
      "    Projecting back using 10 PCA components\n"
     ]
    }
   ],
   "source": [
    "cr = preprocess_eeg(r)"
   ]
  },
  {
   "cell_type": "code",
   "execution_count": 66,
   "metadata": {},
   "outputs": [
    {
     "data": {
      "text/plain": [
       "(10, 64512)"
      ]
     },
     "execution_count": 66,
     "metadata": {},
     "output_type": "execute_result"
    }
   ],
   "source": [
    "cr.get_data().shape"
   ]
  },
  {
   "cell_type": "code",
   "execution_count": 65,
   "metadata": {},
   "outputs": [],
   "source": [
    "# Extract rhythms\n",
    "alpha_rhythms, theta_rhythms = extract_rhythms(cr, 256.)"
   ]
  },
  {
   "cell_type": "code",
   "execution_count": 81,
   "metadata": {},
   "outputs": [],
   "source": [
    "# Compute Mahalanobis distance and combined deviation (DC)\n",
    "mean_alpha = np.mean(alpha_rhythms, axis=1)\n",
    "cov_alpha = np.cov(alpha_rhythms)\n",
    "mean_theta = np.mean(theta_rhythms, axis=1)\n",
    "cov_theta = np.cov(theta_rhythms)\n"
   ]
  },
  {
   "cell_type": "code",
   "execution_count": 88,
   "metadata": {},
   "outputs": [
    {
     "data": {
      "text/plain": [
       "(10, 64512)"
      ]
     },
     "execution_count": 88,
     "metadata": {},
     "output_type": "execute_result"
    }
   ],
   "source": [
    "alpha_rhythms[:, 0].shape\n",
    "alpha_rhythms.shape"
   ]
  },
  {
   "cell_type": "code",
   "execution_count": 86,
   "metadata": {},
   "outputs": [],
   "source": [
    "DC: float = combined_deviation(alpha_rhythms[:, 0], theta_rhythms[:, 0], mean_alpha, cov_alpha, mean_theta, cov_theta)"
   ]
  },
  {
   "cell_type": "code",
   "execution_count": 87,
   "metadata": {},
   "outputs": [
    {
     "data": {
      "text/plain": [
       "2.5637820019040825"
      ]
     },
     "execution_count": 87,
     "metadata": {},
     "output_type": "execute_result"
    }
   ],
   "source": [
    "DC"
   ]
  }
 ],
 "metadata": {
  "kernelspec": {
   "display_name": "baseline-h49",
   "language": "python",
   "name": "python3"
  },
  "language_info": {
   "codemirror_mode": {
    "name": "ipython",
    "version": 3
   },
   "file_extension": ".py",
   "mimetype": "text/x-python",
   "name": "python",
   "nbconvert_exporter": "python",
   "pygments_lexer": "ipython3",
   "version": "3.10.15"
  }
 },
 "nbformat": 4,
 "nbformat_minor": 2
}
